{
 "cells": [
  {
   "cell_type": "code",
   "execution_count": 97,
   "id": "ab7170bd",
   "metadata": {},
   "outputs": [],
   "source": [
    "import numpy as np\n",
    "import pandas as pd\n",
    "import matplotlib.pyplot as plt\n",
    "%matplotlib inline\n",
    "from sklearn.impute import SimpleImputer\n",
    "from sklearn.preprocessing import OneHotEncoder\n",
    "from sklearn.preprocessing import MinMaxScaler\n",
    "from sklearn.model_selection import train_test_split\n",
    "from sklearn.compose import make_column_transformer"
   ]
  },
  {
   "cell_type": "code",
   "execution_count": 98,
   "id": "8f578bc4",
   "metadata": {},
   "outputs": [],
   "source": [
    "df = pd.read_csv(\"flight_delay.csv\")"
   ]
  },
  {
   "cell_type": "code",
   "execution_count": 99,
   "id": "36cc6470",
   "metadata": {},
   "outputs": [
    {
     "data": {
      "text/html": [
       "<div>\n",
       "<style scoped>\n",
       "    .dataframe tbody tr th:only-of-type {\n",
       "        vertical-align: middle;\n",
       "    }\n",
       "\n",
       "    .dataframe tbody tr th {\n",
       "        vertical-align: top;\n",
       "    }\n",
       "\n",
       "    .dataframe thead th {\n",
       "        text-align: right;\n",
       "    }\n",
       "</style>\n",
       "<table border=\"1\" class=\"dataframe\">\n",
       "  <thead>\n",
       "    <tr style=\"text-align: right;\">\n",
       "      <th></th>\n",
       "      <th>Depature Airport</th>\n",
       "      <th>Scheduled depature time</th>\n",
       "      <th>Destination Airport</th>\n",
       "      <th>Scheduled arrival time</th>\n",
       "      <th>Delay</th>\n",
       "    </tr>\n",
       "  </thead>\n",
       "  <tbody>\n",
       "    <tr>\n",
       "      <th>0</th>\n",
       "      <td>SVO</td>\n",
       "      <td>2015-10-27 07:40:00</td>\n",
       "      <td>HAV</td>\n",
       "      <td>2015-10-27 20:45:00</td>\n",
       "      <td>0.0</td>\n",
       "    </tr>\n",
       "    <tr>\n",
       "      <th>1</th>\n",
       "      <td>SVO</td>\n",
       "      <td>2015-10-27 09:50:00</td>\n",
       "      <td>JFK</td>\n",
       "      <td>2015-10-27 20:35:00</td>\n",
       "      <td>2.0</td>\n",
       "    </tr>\n",
       "    <tr>\n",
       "      <th>2</th>\n",
       "      <td>SVO</td>\n",
       "      <td>2015-10-27 10:45:00</td>\n",
       "      <td>MIA</td>\n",
       "      <td>2015-10-27 23:35:00</td>\n",
       "      <td>0.0</td>\n",
       "    </tr>\n",
       "    <tr>\n",
       "      <th>3</th>\n",
       "      <td>SVO</td>\n",
       "      <td>2015-10-27 12:30:00</td>\n",
       "      <td>LAX</td>\n",
       "      <td>2015-10-28 01:20:00</td>\n",
       "      <td>0.0</td>\n",
       "    </tr>\n",
       "    <tr>\n",
       "      <th>4</th>\n",
       "      <td>OTP</td>\n",
       "      <td>2015-10-27 14:15:00</td>\n",
       "      <td>SVO</td>\n",
       "      <td>2015-10-27 16:40:00</td>\n",
       "      <td>9.0</td>\n",
       "    </tr>\n",
       "    <tr>\n",
       "      <th>5</th>\n",
       "      <td>HAM</td>\n",
       "      <td>2015-10-27 14:30:00</td>\n",
       "      <td>SVO</td>\n",
       "      <td>2015-10-27 17:15:00</td>\n",
       "      <td>0.0</td>\n",
       "    </tr>\n",
       "    <tr>\n",
       "      <th>6</th>\n",
       "      <td>SVO</td>\n",
       "      <td>2015-10-27 14:35:00</td>\n",
       "      <td>JFK</td>\n",
       "      <td>2015-10-28 01:25:00</td>\n",
       "      <td>0.0</td>\n",
       "    </tr>\n",
       "    <tr>\n",
       "      <th>7</th>\n",
       "      <td>DXB</td>\n",
       "      <td>2015-10-27 15:40:00</td>\n",
       "      <td>SVO</td>\n",
       "      <td>2015-10-27 21:20:00</td>\n",
       "      <td>1.0</td>\n",
       "    </tr>\n",
       "  </tbody>\n",
       "</table>\n",
       "</div>"
      ],
      "text/plain": [
       "  Depature Airport Scheduled depature time Destination Airport  \\\n",
       "0              SVO     2015-10-27 07:40:00                 HAV   \n",
       "1              SVO     2015-10-27 09:50:00                 JFK   \n",
       "2              SVO     2015-10-27 10:45:00                 MIA   \n",
       "3              SVO     2015-10-27 12:30:00                 LAX   \n",
       "4              OTP     2015-10-27 14:15:00                 SVO   \n",
       "5              HAM     2015-10-27 14:30:00                 SVO   \n",
       "6              SVO     2015-10-27 14:35:00                 JFK   \n",
       "7              DXB     2015-10-27 15:40:00                 SVO   \n",
       "\n",
       "  Scheduled arrival time  Delay  \n",
       "0    2015-10-27 20:45:00    0.0  \n",
       "1    2015-10-27 20:35:00    2.0  \n",
       "2    2015-10-27 23:35:00    0.0  \n",
       "3    2015-10-28 01:20:00    0.0  \n",
       "4    2015-10-27 16:40:00    9.0  \n",
       "5    2015-10-27 17:15:00    0.0  \n",
       "6    2015-10-28 01:25:00    0.0  \n",
       "7    2015-10-27 21:20:00    1.0  "
      ]
     },
     "execution_count": 99,
     "metadata": {},
     "output_type": "execute_result"
    }
   ],
   "source": [
    "df.head(8)"
   ]
  },
  {
   "cell_type": "code",
   "execution_count": 100,
   "id": "77b961c3",
   "metadata": {},
   "outputs": [],
   "source": [
    "df[\"Scheduled depature time\"]= pd.to_datetime(df[\"Scheduled depature time\"])\n",
    "df[\"Scheduled arrival time\"] = pd.to_datetime(df[\"Scheduled arrival time\"])\n",
    "df[\"FlyDuration\"] = df[\"Scheduled arrival time\"] - df [\"Scheduled depature time\"]\n",
    "df[\"FlyDuration\"] = df[\"FlyDuration\"]  / np.timedelta64(1, 'm')\n",
    "y = df.Delay"
   ]
  },
  {
   "cell_type": "code",
   "execution_count": 101,
   "id": "28ad5d24",
   "metadata": {},
   "outputs": [],
   "source": [
    "\n",
    "\n",
    "\n",
    "df['ScheduledDep_year'] = df[\"Scheduled depature time\"].dt.year\n",
    "df['ScheduledDep_month'] = df[\"Scheduled depature time\"].dt.month\n",
    "df['ScheduledDep_week'] = df[\"Scheduled depature time\"].dt.isocalendar().week\n",
    "df['ScheduledDep_day'] = df[\"Scheduled depature time\"].dt.day\n",
    "df['ScheduledDep_hour'] = df[\"Scheduled depature time\"].dt.hour\n",
    "df['ScheduledDep_minute'] = df[\"Scheduled depature time\"].dt.minute\n",
    "df['ScheduledDep_dayofweek'] = df[\"Scheduled depature time\"].dt.dayofweek\n",
    "\n",
    "df['ScheduledArr_year'] = df[\"Scheduled arrival time\"].dt.year\n",
    "df['ScheduledArr_month'] = df[\"Scheduled arrival time\"].dt.month\n",
    "df['ScheduledArr_week'] = df[\"Scheduled arrival time\"].dt.isocalendar().week\n",
    "df['ScheduledArr_day'] = df[\"Scheduled arrival time\"].dt.day\n",
    "df['ScheduledArr_hour'] = df[\"Scheduled arrival time\"].dt.hour\n",
    "df['ScheduledArr_minute'] = df[\"Scheduled arrival time\"].dt.minute\n",
    "df['ScheduledArr_dayofweek'] = df[\"Scheduled arrival time\"].dt.dayofweek\n",
    "\n",
    "\n",
    "del df[\"Scheduled depature time\"]\n",
    "del df[\"Scheduled arrival time\"]\n",
    "del df[\"Delay\"]\n",
    "#df[\"Day_of_dep_t\"] = df[\"Scheduled depature time\"].dt.day_name()\n",
    "#df.drop([\"Delay\"],axis=1)\n",
    "#x_train, x_test, y_train, y_test = train_test_split(df, y, test_size=0.2)\n",
    "\n",
    "\n"
   ]
  },
  {
   "cell_type": "code",
   "execution_count": 102,
   "id": "d6ec8b86",
   "metadata": {},
   "outputs": [],
   "source": [
    "from sklearn.decomposition import PCA\n",
    "from sklearn import preprocessing\n",
    "le = preprocessing.LabelEncoder()\n",
    "\n",
    "df[\"Depature Airport\"]= le.fit_transform(df[\"Depature Airport\"])\n",
    "df[\"Destination Airport\"] = le.fit_transform(df[\"Destination Airport\"])\n",
    "\n",
    "df_train = df[df[\"ScheduledDep_year\"]<2018]\n",
    "df_test =  df[df[\"ScheduledDep_year\"]==2018]\n",
    "\n",
    "y_train = y[df_train.index]\n",
    "y_test = y[df_test.index]\n",
    "\n",
    "pca = PCA(n_components=1, svd_solver='arpack')\n",
    "most_val_vec = pca.fit_transform(df_train)\n",
    "\n"
   ]
  },
  {
   "cell_type": "code",
   "execution_count": 103,
   "id": "107914c4",
   "metadata": {},
   "outputs": [
    {
     "data": {
      "text/plain": [
       "Text(0.5, 1.0, 'Correlation')"
      ]
     },
     "execution_count": 103,
     "metadata": {},
     "output_type": "execute_result"
    },
    {
     "data": {
      "image/png": "[encoded data removed]",
      "text/plain": [
       "<Figure size 432x288 with 1 Axes>"
      ]
     },
     "metadata": {
      "needs_background": "light"
     },
     "output_type": "display_data"
    }
   ],
   "source": [
    "d_t = df_train.FlyDuration\n",
    "plt.scatter(d_t, most_val_vec)\n",
    "plt.xlabel('FlyDuration')\n",
    "plt.ylabel('Main vec after PCA')\n",
    "plt.title(\"Correlation\")"
   ]
  },
  {
   "cell_type": "code",
   "execution_count": 104,
   "id": "03a4bf67",
   "metadata": {},
   "outputs": [
    {
     "data": {
      "text/plain": [
       "Text(0, 0.5, 'delay')"
      ]
     },
     "execution_count": 104,
     "metadata": {},
     "output_type": "execute_result"
    },
    {
     "data": {
      "image/png": "[encoded data removed]",
      "text/plain": [
       "<Figure size 432x288 with 1 Axes>"
      ]
     },
     "metadata": {
      "needs_background": "light"
     },
     "output_type": "display_data"
    }
   ],
   "source": [
    "plt.title('communication between Delay and FlyDuration')\n",
    "plt.scatter(df_train[\"FlyDuration\"] , y_train)\n",
    "plt.xlabel('duration')\n",
    "plt.ylabel('delay')"
   ]
  },
  {
   "cell_type": "code",
   "execution_count": 105,
   "id": "725141da",
   "metadata": {},
   "outputs": [
    {
     "data": {
      "text/plain": [
       "Text(0.5, 1.0, 'Hist for finding noise points in train')"
      ]
     },
     "execution_count": 105,
     "metadata": {},
     "output_type": "execute_result"
    },
    {
     "data": {
      "image/png": "[encoded data removed]",
      "text/plain": [
       "<Figure size 432x288 with 1 Axes>"
      ]
     },
     "metadata": {
      "needs_background": "light"
     },
     "output_type": "display_data"
    }
   ],
   "source": [
    "y_train.hist() \n",
    "plt.xlabel('delay')\n",
    "plt.ylabel('count with this delay')\n",
    "plt.title(\"Hist for finding noise points in train\")"
   ]
  },
  {
   "cell_type": "code",
   "execution_count": 106,
   "id": "974801a2",
   "metadata": {},
   "outputs": [],
   "source": [
    "from sklearn import linear_model\n",
    "from sklearn.linear_model import LinearRegression\n",
    "from sklearn import metrics\n",
    "from sklearn.metrics import mean_absolute_error\n",
    "from sklearn.preprocessing import PolynomialFeatures\n",
    "from sklearn.pipeline import Pipeline\n",
    "from sklearn.preprocessing import PolynomialFeatures #to convert the original features into their higher order terms \n",
    "from sklearn.model_selection import cross_val_score\n",
    "from sklearn.metrics import mean_squared_error\n"
   ]
  },
  {
   "cell_type": "code",
   "execution_count": 107,
   "id": "ee522526",
   "metadata": {},
   "outputs": [
    {
     "name": "stdout",
     "output_type": "stream",
     "text": [
      "MSE with all data:  1644.5433782686932\n",
      "MAE with all data:  16.16071286562617\n",
      "MSE using just FlyDuration:  1619.2068848222061\n",
      "MAE using just FlyDuration: 14.401651841266302\n"
     ]
    }
   ],
   "source": [
    "lr = LinearRegression()\n",
    "lr.fit(df_train,y_train)\n",
    "y_pred = lr.predict(df_test)\n",
    "print(\"MSE with all data: \", mean_squared_error(y_pred,y_test))\n",
    "print(\"MAE with all data: \", mean_absolute_error(y_pred,y_test))\n",
    "lr = LinearRegression()\n",
    "lr.fit(df_train.FlyDuration.values.reshape(-1,1) ,y_train)\n",
    "y_pred = lr.predict(df_test.FlyDuration.values.reshape(-1,1))\n",
    "print(\"MSE using just FlyDuration: \",  mean_squared_error(y_pred,y_test))\n",
    "print(\"MAE using just FlyDuration:\", mean_absolute_error(y_pred,y_test))"
   ]
  },
  {
   "cell_type": "code",
   "execution_count": 108,
   "id": "1baaf460",
   "metadata": {},
   "outputs": [],
   "source": [
    "def detect_noise(delays, m_o_d  ):\n",
    "    \"\"\" \n",
    "    this func finds and returns noise_point,index_noise \n",
    "    delays - our target\n",
    "    m_o_d - possible indentation spacing from mean_of_data \"\"\"\n",
    "    i=0\n",
    "    ind = delays.index.values\n",
    "    mean_of_delays = delays.mean()\n",
    "    noise_point = []\n",
    "    index_noise=[]\n",
    "    for delay  in delays.values :\n",
    "        if delay > (m_o_d + mean_of_delays):\n",
    "            noise_point.append(delay)\n",
    "            index_noise.append(ind[i])\n",
    "        i+=1\n",
    "    return noise_point,index_noise    "
   ]
  },
  {
   "cell_type": "code",
   "execution_count": 109,
   "id": "34d6a2ad",
   "metadata": {},
   "outputs": [],
   "source": [
    "noise , ind = detect_noise(delays = y_train, m_o_d  = 50)"
   ]
  },
  {
   "cell_type": "code",
   "execution_count": 110,
   "id": "56bf2cca",
   "metadata": {},
   "outputs": [],
   "source": [
    "#df_train = df_train.reset_index()\n",
    "#y_train = y_train.reset_index()\n",
    "df_train  = df_train.drop(ind)\n",
    "y_train = y_train.drop(ind)\n"
   ]
  },
  {
   "cell_type": "code",
   "execution_count": 111,
   "id": "76a198b3",
   "metadata": {},
   "outputs": [
    {
     "name": "stderr",
     "output_type": "stream",
     "text": [
      "/home/aidar/anaconda3/lib/python3.8/site-packages/sklearn/linear_model/_coordinate_descent.py:530: ConvergenceWarning: Objective did not converge. You might want to increase the number of iterations. Duality gap: 23763215.838771712, tolerance: 4847.95128860544\n",
      "  model = cd_fast.enet_coordinate_descent(\n",
      "/home/aidar/anaconda3/lib/python3.8/site-packages/sklearn/linear_model/_coordinate_descent.py:530: ConvergenceWarning: Objective did not converge. You might want to increase the number of iterations. Duality gap: 23761794.481633276, tolerance: 4847.95128860544\n",
      "  model = cd_fast.enet_coordinate_descent(\n",
      "/home/aidar/anaconda3/lib/python3.8/site-packages/sklearn/linear_model/_coordinate_descent.py:530: ConvergenceWarning: Objective did not converge. You might want to increase the number of iterations. Duality gap: 23761615.11651154, tolerance: 4847.95128860544\n",
      "  model = cd_fast.enet_coordinate_descent(\n",
      "/home/aidar/anaconda3/lib/python3.8/site-packages/sklearn/linear_model/_ridge.py:147: LinAlgWarning: Ill-conditioned matrix (rcond=2.95126e-33): result may not be accurate.\n",
      "  return linalg.solve(A, Xy, sym_pos=True,\n",
      "/home/aidar/anaconda3/lib/python3.8/site-packages/sklearn/linear_model/_ridge.py:147: LinAlgWarning: Ill-conditioned matrix (rcond=7.16669e-52): result may not be accurate.\n",
      "  return linalg.solve(A, Xy, sym_pos=True,\n",
      "/home/aidar/anaconda3/lib/python3.8/site-packages/sklearn/linear_model/_ridge.py:147: LinAlgWarning: Ill-conditioned matrix (rcond=1.20569e-64): result may not be accurate.\n",
      "  return linalg.solve(A, Xy, sym_pos=True,\n"
     ]
    }
   ],
   "source": [
    "models = [linear_model.Lasso(),linear_model.Ridge(),LinearRegression()]\n",
    "names = [\"Lasso\" , \"Ridge\", \"LinearRegr_without_reg\"]\n",
    "mae = {\"mae_for_Lasso\":[],\"mae_for_Ridge\":[],\"mae_for_LinearRegr_without_reg\":[]}\n",
    "mse = {\"mse_for_Lasso\":[],\"mse_for_Ridge\":[],\"mse_for_LinearRegr_without_reg\":[]}\n",
    "r2 = {\"r2_for_Lasso\":[],\"r2_for_Ridge\":[],\"r2_for_LinearRegr_without_reg\":[]}\n",
    "degrees = [1, 2, 5 , 8 ,10]\n",
    "k=0\n",
    "for model in models:\n",
    "    for i in range (len(degrees)):\n",
    "        polynomial_features = PolynomialFeatures(degree=degrees[i])\n",
    "        pipeline = Pipeline([(\"polynomial_features\", polynomial_features),\n",
    "                             (names[k], model)])\n",
    "        y_pred = pipeline.fit(df_train.FlyDuration.values.reshape(-1,1), y_train).predict(df_train.FlyDuration.values.reshape(-1,1))\n",
    "        r2[\"r2_for_\"+names[k]].append(metrics.r2_score(y_train, y_pred))\n",
    "        mae[\"mae_for_\"+names[k]].append(mean_absolute_error(y_train, y_pred))\n",
    "        mse[\"mse_for_\"+names[k]].append(mean_squared_error(y_train,y_pred))\n",
    "    k+=1\n",
    "   \n",
    "    "
   ]
  },
  {
   "cell_type": "code",
   "execution_count": 112,
   "id": "3c942a68",
   "metadata": {},
   "outputs": [],
   "source": [
    "d1= {\"Polyn_degrees \": degrees}\n",
    "err = dict(mae, **mse)\n",
    "err.update(r2)\n",
    "err.update(d1)\n",
    "\n",
    "errors = pd.DataFrame(err)\n",
    "#errors.to_latex(\"err_on_train.tex\")"
   ]
  },
  {
   "cell_type": "code",
   "execution_count": 113,
   "id": "a89f11df",
   "metadata": {},
   "outputs": [],
   "source": [
    "writer = pd.ExcelWriter('for_train.xlsx', engine='xlsxwriter')\n",
    "\n",
    "# Convert the dataframe to an XlsxWriter Excel object.\n",
    "errors.to_excel(writer, sheet_name='Sheet1')\n",
    "\n",
    "# Close the Pandas Excel writer and output the Excel file.\n",
    "writer.save()"
   ]
  },
  {
   "cell_type": "code",
   "execution_count": 114,
   "id": "53f0511f",
   "metadata": {},
   "outputs": [
    {
     "data": {
      "image/png": "[encoded data removed]",
      "text/plain": [
       "<Figure size 1008x360 with 4 Axes>"
      ]
     },
     "metadata": {},
     "output_type": "display_data"
    }
   ],
   "source": [
    "degrees = [1, 2, 5 ,15]\n",
    "model = LinearRegression()\n",
    "k= 0 \n",
    "plt.figure(figsize=(14, 5))\n",
    "\n",
    "for i in range (len(degrees)):\n",
    "        ax = plt.subplot(1, len(degrees), i + 1)\n",
    "        plt.setp(ax, xticks=(), yticks=())\n",
    "        polynomial_features = PolynomialFeatures(degree=degrees[i])\n",
    "        pipeline = Pipeline([(\"polynomial_features\", polynomial_features),\n",
    "                             (\"linear_regression\", model)])\n",
    "        y_pred = pipeline.fit(df_train.FlyDuration.values.reshape(-1,1), y_train).predict(df_test.FlyDuration.values.reshape(-1,1))\n",
    "      \n",
    "        plt.scatter(df_test.FlyDuration.values.reshape(-1,1) , y_test ,  label  = \"True\")\n",
    "        plt.scatter(df_test.FlyDuration.values.reshape(-1,1) , y_pred , label =  \"Predicted_with_degr{}\".format(degrees[i]))\n",
    "       # plt.plot(intervals , mse[\"mse_for_LinearRegr_without_reg\"] , label = 'SimpleLinearRegr')\n",
    "        plt.legend(loc=\"best\")\n",
    "        plt.title('Delay&Duraion ')\n",
    "        plt.xlabel('FlyDuration')\n",
    "        plt.ylabel(\"Delay\")     \n",
    "        k+=1\n",
    "plt.show()        "
   ]
  },
  {
   "cell_type": "code",
   "execution_count": 115,
   "id": "3f0707f3",
   "metadata": {},
   "outputs": [
    {
     "data": {
      "text/plain": [
       "Text(0.5, 1.0, 'Hist for finding noise points on test')"
      ]
     },
     "execution_count": 115,
     "metadata": {},
     "output_type": "execute_result"
    },
    {
     "data": {
      "image/png": "[encoded data removed]",
      "text/plain": [
       "<Figure size 432x288 with 1 Axes>"
      ]
     },
     "metadata": {
      "needs_background": "light"
     },
     "output_type": "display_data"
    }
   ],
   "source": [
    "y_test.hist()\n",
    "plt.xlabel('delay')\n",
    "plt.ylabel('count with this delay')\n",
    "plt.title(\"Hist for finding noise points on test\")"
   ]
  },
  {
   "cell_type": "code",
   "execution_count": 116,
   "id": "9ce3d7a4",
   "metadata": {},
   "outputs": [
    {
     "name": "stdout",
     "output_type": "stream",
     "text": [
      "176451\n",
      "174049\n"
     ]
    }
   ],
   "source": [
    "print(len(y_test))\n",
    "print(len(y_test[y_test<100]))"
   ]
  },
  {
   "cell_type": "code",
   "execution_count": 117,
   "id": "cafcda04",
   "metadata": {},
   "outputs": [],
   "source": [
    "#So we have some noise points  - "
   ]
  },
  {
   "cell_type": "code",
   "execution_count": 118,
   "id": "52592ec3",
   "metadata": {},
   "outputs": [
    {
     "name": "stderr",
     "output_type": "stream",
     "text": [
      "/home/aidar/anaconda3/lib/python3.8/site-packages/sklearn/linear_model/_coordinate_descent.py:530: ConvergenceWarning: Objective did not converge. You might want to increase the number of iterations. Duality gap: 23763215.838771712, tolerance: 4847.95128860544\n",
      "  model = cd_fast.enet_coordinate_descent(\n",
      "/home/aidar/anaconda3/lib/python3.8/site-packages/sklearn/linear_model/_coordinate_descent.py:530: ConvergenceWarning: Objective did not converge. You might want to increase the number of iterations. Duality gap: 23761794.481633276, tolerance: 4847.95128860544\n",
      "  model = cd_fast.enet_coordinate_descent(\n",
      "/home/aidar/anaconda3/lib/python3.8/site-packages/sklearn/linear_model/_coordinate_descent.py:530: ConvergenceWarning: Objective did not converge. You might want to increase the number of iterations. Duality gap: 23761615.11651154, tolerance: 4847.95128860544\n",
      "  model = cd_fast.enet_coordinate_descent(\n",
      "/home/aidar/anaconda3/lib/python3.8/site-packages/sklearn/linear_model/_ridge.py:147: LinAlgWarning: Ill-conditioned matrix (rcond=2.95126e-33): result may not be accurate.\n",
      "  return linalg.solve(A, Xy, sym_pos=True,\n",
      "/home/aidar/anaconda3/lib/python3.8/site-packages/sklearn/linear_model/_ridge.py:147: LinAlgWarning: Ill-conditioned matrix (rcond=7.16669e-52): result may not be accurate.\n",
      "  return linalg.solve(A, Xy, sym_pos=True,\n",
      "/home/aidar/anaconda3/lib/python3.8/site-packages/sklearn/linear_model/_ridge.py:147: LinAlgWarning: Ill-conditioned matrix (rcond=1.20569e-64): result may not be accurate.\n",
      "  return linalg.solve(A, Xy, sym_pos=True,\n"
     ]
    }
   ],
   "source": [
    "models = [linear_model.Lasso(),linear_model.Ridge(),LinearRegression()]\n",
    "names = [\"Lasso\" , \"Ridge\", \"LinearRegr_without_reg\"]\n",
    "mae = {\"mae_for_Lasso\":[],\"mae_for_Ridge\":[],\"mae_for_LinearRegr_without_reg\":[]}\n",
    "mse = {\"mse_for_Lasso\":[],\"mse_for_Ridge\":[],\"mse_for_LinearRegr_without_reg\":[]}\n",
    "r2 = {\"r2_for_Lasso\":[],\"r2_for_Ridge\":[],\"r2_for_LinearRegr_without_reg\":[]}\n",
    "degrees = [1, 2, 5 , 8 ,10]\n",
    "k=0\n",
    "for model in models:\n",
    "    for i in range (len(degrees)):\n",
    "        polynomial_features = PolynomialFeatures(degree=degrees[i])\n",
    "        pipeline = Pipeline([(\"polynomial_features\", polynomial_features),\n",
    "                             (names[k], model)])\n",
    "        y_pred = pipeline.fit(df_train.FlyDuration.values.reshape(-1,1), y_train).predict(df_test.FlyDuration.values.reshape(-1,1))\n",
    "        r2[\"r2_for_\"+names[k]].append(metrics.r2_score(y_test, y_pred))\n",
    "        mae[\"mae_for_\"+names[k]].append(mean_absolute_error(y_test, y_pred))\n",
    "        mse[\"mse_for_\"+names[k]].append(mean_squared_error(y_test,y_pred))\n",
    "    k+=1\n",
    "   \n",
    "    "
   ]
  },
  {
   "cell_type": "code",
   "execution_count": 119,
   "id": "3565f803",
   "metadata": {},
   "outputs": [],
   "source": [
    "d1= {\"Polyn_degrees \": degrees}\n",
    "err = dict(mae, **mse)\n",
    "err.update(r2)\n",
    "err.update(d1)\n",
    "\n",
    "errors = pd.DataFrame(err)\n",
    "writer = pd.ExcelWriter('for_test.xlsx', engine='xlsxwriter')\n",
    "\n",
    "# Convert the dataframe to an XlsxWriter Excel object.\n",
    "errors.to_excel(writer, sheet_name='Sheet1')\n",
    "\n",
    "# Close the Pandas Excel writer and output the Excel file.\n",
    "writer.save()"
   ]
  },
  {
   "cell_type": "code",
   "execution_count": 120,
   "id": "1c5ce864",
   "metadata": {},
   "outputs": [],
   "source": [
    "#UDDATE\n",
    "\n",
    "df_train = df[df[\"ScheduledDep_year\"]<2018]\n",
    "df_test =  df[df[\"ScheduledDep_year\"]==2018]\n",
    "y_train = y[df_train.index]\n",
    "y_test = y[df_test.index]"
   ]
  },
  {
   "cell_type": "code",
   "execution_count": 121,
   "id": "eb3c3f1c",
   "metadata": {},
   "outputs": [],
   "source": [
    "intervals = [5.5 ,15 , 30 , 50 , 90 , 220, 300, 500, 700 , 1000]\n",
    "models = [linear_model.Lasso(),linear_model.Ridge(),LinearRegression()]\n",
    "names = [\"Lasso\" , \"Ridge\", \"LinearRegr_without_reg\"]\n",
    "X = df_train.values\n",
    "mae = {\"mae_for_Lasso\":[],\"mae_for_Ridge\":[],\"mae_for_LinearRegr_without_reg\":[]}\n",
    "mse = {\"mse_for_Lasso\":[],\"mse_for_Ridge\":[],\"mse_for_LinearRegr_without_reg\":[]}\n",
    "r2 = {\"r2_for_Lasso\":[],\"r2_for_Ridge\":[],\"r2_for_LinearRegr_without_reg\":[]}\n",
    "models = [linear_model.Lasso(),linear_model.Ridge(),LinearRegression()]\n",
    "k=0\n",
    "for model in models:\n",
    "    for interval in intervals : \n",
    "        noise , idex =  detect_noise(y_train , interval)\n",
    "        df_t=df_train.drop(idex)\n",
    "        y_t = y_train.drop(idex)\n",
    "        model.fit(df_t.FlyDuration.values.reshape(-1,1),y_t)\n",
    "        y_pred = model.predict(df_test.FlyDuration.values.reshape(-1,1))\n",
    "        r2[\"r2_for_\"+names[k]].append(metrics.r2_score(y_test, y_pred))\n",
    "        mae[\"mae_for_\"+names[k]].append(mean_absolute_error(y_test, y_pred))\n",
    "        mse[\"mse_for_\"+names[k]].append(mean_squared_error(y_test,y_pred))\n",
    "        \n",
    "    k+=1    "
   ]
  },
  {
   "cell_type": "code",
   "execution_count": 122,
   "id": "97abb5cc",
   "metadata": {},
   "outputs": [
    {
     "data": {
      "text/plain": [
       "Text(0, 0.5, 'MSE')"
      ]
     },
     "execution_count": 122,
     "metadata": {},
     "output_type": "execute_result"
    },
    {
     "data": {
      "image/png": "[encoded data removed]",
      "text/plain": [
       "<Figure size 432x288 with 1 Axes>"
      ]
     },
     "metadata": {
      "needs_background": "light"
     },
     "output_type": "display_data"
    }
   ],
   "source": [
    "plt.plot(intervals , mse[\"mse_for_Lasso\"] ,  label  = \"Lasso\")\n",
    "plt.plot(intervals , mse[\"mse_for_Ridge\"] , label = 'Ridge')\n",
    "plt.plot(intervals , mse[\"mse_for_LinearRegr_without_reg\"] , label = 'SimpleLinearRegr')\n",
    "plt.legend(loc=\"best\")\n",
    "plt.title('MSE with different interval')\n",
    "plt.xlabel('outlier clipping interval')\n",
    "plt.ylabel(\"MSE\") "
   ]
  },
  {
   "cell_type": "code",
   "execution_count": 123,
   "id": "38bf57cf",
   "metadata": {},
   "outputs": [
    {
     "data": {
      "text/plain": [
       "Text(0, 0.5, 'R2')"
      ]
     },
     "execution_count": 123,
     "metadata": {},
     "output_type": "execute_result"
    },
    {
     "data": {
      "image/png": "[encoded data removed]",
      "text/plain": [
       "<Figure size 432x288 with 1 Axes>"
      ]
     },
     "metadata": {
      "needs_background": "light"
     },
     "output_type": "display_data"
    }
   ],
   "source": [
    "plt.plot(intervals , r2[\"r2_for_Lasso\"] , label = 'Ridge')\n",
    "plt.title('R2 with different interval')\n",
    "plt.xlabel('outlier clipping interval')\n",
    "plt.ylabel(\"R2\") "
   ]
  },
  {
   "cell_type": "code",
   "execution_count": 124,
   "id": "6bf606af",
   "metadata": {},
   "outputs": [
    {
     "name": "stderr",
     "output_type": "stream",
     "text": [
      "No handles with labels found to put in legend.\n"
     ]
    },
    {
     "data": {
      "text/plain": [
       "Text(0, 0.5, 'MAE')"
      ]
     },
     "execution_count": 124,
     "metadata": {},
     "output_type": "execute_result"
    },
    {
     "data": {
      "image/png": "[encoded data removed]",
      "text/plain": [
       "<Figure size 432x288 with 1 Axes>"
      ]
     },
     "metadata": {
      "needs_background": "light"
     },
     "output_type": "display_data"
    }
   ],
   "source": [
    "plt.plot(intervals , mae[\"mae_for_Lasso\"] )\n",
    "plt.legend(loc=\"best\")\n",
    "plt.title('MAE with different interval')\n",
    "plt.xlabel('outlier clipping interval')\n",
    "plt.ylabel(\"MAE\") "
   ]
  },
  {
   "cell_type": "code",
   "execution_count": 125,
   "id": "675cbf93",
   "metadata": {},
   "outputs": [
    {
     "name": "stdout",
     "output_type": "stream",
     "text": [
      "4\n",
      "4\n",
      "Best interval :  90\n"
     ]
    }
   ],
   "source": [
    "print(np.array(r2[\"r2_for_Lasso\"]).argmax())\n",
    "print(np.array(mse[\"mse_for_Lasso\"]).argmin())\n",
    "best_interv = intervals[np.array(mse[\"mse_for_Lasso\"]).argmin()]\n",
    "print(\"Best interval : \" , best_interv)"
   ]
  },
  {
   "cell_type": "code",
   "execution_count": 126,
   "id": "aac6a0d6",
   "metadata": {},
   "outputs": [],
   "source": [
    "noise , idex =  detect_noise(y_train , best_interv)\n",
    "df_train  = df_train.drop(idex)\n",
    "y_train = y_train.drop(idex)\n",
    "noise , idex =  detect_noise(y_test , 60)\n",
    "y_without_some_noise = y_test.drop(idex)\n",
    "df_new_test  = df_test.drop(idex)"
   ]
  },
  {
   "cell_type": "code",
   "execution_count": 127,
   "id": "974269c6",
   "metadata": {},
   "outputs": [
    {
     "name": "stderr",
     "output_type": "stream",
     "text": [
      "/home/aidar/anaconda3/lib/python3.8/site-packages/sklearn/linear_model/_coordinate_descent.py:530: ConvergenceWarning: Objective did not converge. You might want to increase the number of iterations. Duality gap: 44970261.89729263, tolerance: 9129.477423270058\n",
      "  model = cd_fast.enet_coordinate_descent(\n",
      "/home/aidar/anaconda3/lib/python3.8/site-packages/sklearn/linear_model/_coordinate_descent.py:530: ConvergenceWarning: Objective did not converge. You might want to increase the number of iterations. Duality gap: 44967884.315469466, tolerance: 9129.477423270058\n",
      "  model = cd_fast.enet_coordinate_descent(\n",
      "/home/aidar/anaconda3/lib/python3.8/site-packages/sklearn/linear_model/_coordinate_descent.py:530: ConvergenceWarning: Objective did not converge. You might want to increase the number of iterations. Duality gap: 44967338.29300905, tolerance: 9129.477423270058\n",
      "  model = cd_fast.enet_coordinate_descent(\n",
      "/home/aidar/anaconda3/lib/python3.8/site-packages/sklearn/linear_model/_ridge.py:147: LinAlgWarning: Ill-conditioned matrix (rcond=2.88759e-33): result may not be accurate.\n",
      "  return linalg.solve(A, Xy, sym_pos=True,\n",
      "/home/aidar/anaconda3/lib/python3.8/site-packages/sklearn/linear_model/_ridge.py:147: LinAlgWarning: Ill-conditioned matrix (rcond=7.16209e-52): result may not be accurate.\n",
      "  return linalg.solve(A, Xy, sym_pos=True,\n",
      "/home/aidar/anaconda3/lib/python3.8/site-packages/sklearn/linear_model/_ridge.py:147: LinAlgWarning: Ill-conditioned matrix (rcond=1.20565e-64): result may not be accurate.\n",
      "  return linalg.solve(A, Xy, sym_pos=True,\n"
     ]
    }
   ],
   "source": [
    "models = [linear_model.Lasso(),linear_model.Ridge(),LinearRegression()]\n",
    "names = [\"Lasso\" , \"Ridge\", \"LinearRegr_without_reg\"]\n",
    "mae = {\"mae_for_Lasso\":[],\"mae_for_Ridge\":[],\"mae_for_LinearRegr_without_reg\":[]}\n",
    "mse = {\"mse_for_Lasso\":[],\"mse_for_Ridge\":[],\"mse_for_LinearRegr_without_reg\":[]}\n",
    "r2 = {\"r2_for_Lasso\":[],\"r2_for_Ridge\":[],\"r2_for_LinearRegr_without_reg\":[]}\n",
    "degrees = [1, 2, 5 , 8 ,10]\n",
    "k=0\n",
    "for model in models:\n",
    "    for i in range (len(degrees)):\n",
    "        polynomial_features = PolynomialFeatures(degree=degrees[i])\n",
    "        pipeline = Pipeline([(\"polynomial_features\", polynomial_features),\n",
    "                             (names[k], model)])\n",
    "        y_pred = pipeline.fit(df_train.FlyDuration.values.reshape(-1,1), y_train).predict(df_new_test.FlyDuration.values.reshape(-1,1))\n",
    "        r2[\"r2_for_\"+names[k]].append(metrics.r2_score(y_without_some_noise, y_pred))\n",
    "        mae[\"mae_for_\"+names[k]].append(mean_absolute_error(y_without_some_noise, y_pred))\n",
    "        mse[\"mse_for_\"+names[k]].append(mean_squared_error(y_without_some_noise,y_pred))\n",
    "    k+=1\n",
    "   \n",
    "    "
   ]
  },
  {
   "cell_type": "code",
   "execution_count": 128,
   "id": "971e1b8d",
   "metadata": {},
   "outputs": [],
   "source": [
    "d1= {\"Polyn_degrees \": degrees}\n",
    "err = dict(mae, **mse)\n",
    "err.update(r2)\n",
    "err.update(d1)\n",
    "\n",
    "errors = pd.DataFrame(err)\n",
    "writer = pd.ExcelWriter('for_test_after_updating.xlsx', engine='xlsxwriter')\n",
    "\n",
    "# Convert the dataframe to an XlsxWriter Excel object.\n",
    "errors.to_excel(writer, sheet_name='Sheet1')\n",
    "\n",
    "# Close the Pandas Excel writer and output the Excel file.\n",
    "writer.save()"
   ]
  },
  {
   "cell_type": "code",
   "execution_count": null,
   "id": "b4d54d48",
   "metadata": {},
   "outputs": [],
   "source": []
  }
 ],
 "metadata": {
  "kernelspec": {
   "display_name": "Python 3 (ipykernel)",
   "language": "python",
   "name": "python3"
  },
  "language_info": {
   "codemirror_mode": {
    "name": "ipython",
    "version": 3
   },
   "file_extension": ".py",
   "mimetype": "text/x-python",
   "name": "python",
   "nbconvert_exporter": "python",
   "pygments_lexer": "ipython3",
   "version": "3.8.11"
  }
 },
 "nbformat": 4,
 "nbformat_minor": 5
}
