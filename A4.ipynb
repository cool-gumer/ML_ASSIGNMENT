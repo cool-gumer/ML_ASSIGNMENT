{
  "nbformat": 4,
  "nbformat_minor": 0,
  "metadata": {
    "colab": {
      "name": "A4.ipynb",
      "provenance": [],
      "collapsed_sections": []
    },
    "kernelspec": {
      "name": "python3",
      "display_name": "Python 3"
    },
    "language_info": {
      "name": "python"
    },
    "accelerator": "GPU"
  },
  "cells": [
    {
      "cell_type": "code",
      "metadata": {
        "id": "wNAd_v8n5etP"
      },
      "source": [
        "from pydrive.auth import GoogleAuth\n",
        "from pydrive.drive import GoogleDrive\n",
        "from google.colab import auth\n",
        "from oauth2client.client import GoogleCredentials\n",
        "\n",
        "# 1. Authenticate and create the PyDrive client.\n",
        "auth.authenticate_user()\n",
        "gauth = GoogleAuth()\n",
        "gauth.credentials = GoogleCredentials.get_application_default()\n",
        "drive = GoogleDrive(gauth)"
      ],
      "execution_count": 1,
      "outputs": []
    },
    {
      "cell_type": "code",
      "metadata": {
        "id": "X6VFT6zE77wk"
      },
      "source": [
        "from zipfile import ZipFile\n",
        "A = ZipFile('/content/drive/MyDrive/clustering_data.zip')\n",
        "names = A.namelist()\n"
      ],
      "execution_count": 2,
      "outputs": []
    },
    {
      "cell_type": "code",
      "metadata": {
        "id": "r98rd3tu8rJ9"
      },
      "source": [
        "from zipfile import ZipFile\n",
        "\n",
        "with ZipFile('/content/drive/MyDrive/clustering_data.zip', 'r') as z:\n",
        "  A = z.extractall()"
      ],
      "execution_count": 3,
      "outputs": []
    },
    {
      "cell_type": "code",
      "metadata": {
        "id": "NG3du2PD8Tsp"
      },
      "source": [
        "import pandas as pd\n",
        "import numpy as np \n",
        "\n",
        "df_train = pd.read_csv(names[1])"
      ],
      "execution_count": 4,
      "outputs": []
    },
    {
      "cell_type": "code",
      "metadata": {
        "id": "9AhLW_uc89lb"
      },
      "source": [
        "from sklearn.impute import SimpleImputer\n",
        "from sklearn.preprocessing import OneHotEncoder\n",
        "from sklearn.preprocessing import MinMaxScaler\n",
        "from sklearn.model_selection import train_test_split"
      ],
      "execution_count": 5,
      "outputs": []
    },
    {
      "cell_type": "code",
      "metadata": {
        "colab": {
          "base_uri": "https://localhost:8080/",
          "height": 223
        },
        "id": "siX2boH_EuKp",
        "outputId": "4ffc1544-7210-463a-a8ea-bc6c68fd40ff"
      },
      "source": [
        "df_train.head(5)"
      ],
      "execution_count": 6,
      "outputs": [
        {
          "output_type": "execute_result",
          "data": {
            "text/html": [
              "<div>\n",
              "<style scoped>\n",
              "    .dataframe tbody tr th:only-of-type {\n",
              "        vertical-align: middle;\n",
              "    }\n",
              "\n",
              "    .dataframe tbody tr th {\n",
              "        vertical-align: top;\n",
              "    }\n",
              "\n",
              "    .dataframe thead th {\n",
              "        text-align: right;\n",
              "    }\n",
              "</style>\n",
              "<table border=\"1\" class=\"dataframe\">\n",
              "  <thead>\n",
              "    <tr style=\"text-align: right;\">\n",
              "      <th></th>\n",
              "      <th>dur</th>\n",
              "      <th>proto</th>\n",
              "      <th>service</th>\n",
              "      <th>state</th>\n",
              "      <th>spkts</th>\n",
              "      <th>dpkts</th>\n",
              "      <th>sbytes</th>\n",
              "      <th>dbytes</th>\n",
              "      <th>rate</th>\n",
              "      <th>sttl</th>\n",
              "      <th>dttl</th>\n",
              "      <th>sload</th>\n",
              "      <th>dload</th>\n",
              "      <th>sloss</th>\n",
              "      <th>dloss</th>\n",
              "      <th>sinpkt</th>\n",
              "      <th>dinpkt</th>\n",
              "      <th>sjit</th>\n",
              "      <th>djit</th>\n",
              "      <th>swin</th>\n",
              "      <th>stcpb</th>\n",
              "      <th>dtcpb</th>\n",
              "      <th>dwin</th>\n",
              "      <th>tcprtt</th>\n",
              "      <th>synack</th>\n",
              "      <th>ackdat</th>\n",
              "      <th>smean</th>\n",
              "      <th>dmean</th>\n",
              "      <th>trans_depth</th>\n",
              "      <th>response_body_len</th>\n",
              "      <th>ct_srv_src</th>\n",
              "      <th>ct_state_ttl</th>\n",
              "      <th>ct_dst_ltm</th>\n",
              "      <th>ct_src_dport_ltm</th>\n",
              "      <th>ct_dst_sport_ltm</th>\n",
              "      <th>ct_dst_src_ltm</th>\n",
              "      <th>is_ftp_login</th>\n",
              "      <th>ct_ftp_cmd</th>\n",
              "      <th>ct_flw_http_mthd</th>\n",
              "      <th>ct_src_ltm</th>\n",
              "      <th>ct_srv_dst</th>\n",
              "      <th>is_sm_ips_ports</th>\n",
              "    </tr>\n",
              "  </thead>\n",
              "  <tbody>\n",
              "    <tr>\n",
              "      <th>0</th>\n",
              "      <td>0.121478</td>\n",
              "      <td>tcp</td>\n",
              "      <td>-</td>\n",
              "      <td>FIN</td>\n",
              "      <td>6</td>\n",
              "      <td>4</td>\n",
              "      <td>258</td>\n",
              "      <td>172</td>\n",
              "      <td>74.087490</td>\n",
              "      <td>252</td>\n",
              "      <td>254</td>\n",
              "      <td>14158.942380</td>\n",
              "      <td>8495.365234</td>\n",
              "      <td>0</td>\n",
              "      <td>0</td>\n",
              "      <td>24.295600</td>\n",
              "      <td>8.375000</td>\n",
              "      <td>30.177547</td>\n",
              "      <td>11.830604</td>\n",
              "      <td>255</td>\n",
              "      <td>621772692</td>\n",
              "      <td>2202533631</td>\n",
              "      <td>255</td>\n",
              "      <td>0.000000</td>\n",
              "      <td>0.000000</td>\n",
              "      <td>0.000000</td>\n",
              "      <td>43</td>\n",
              "      <td>43</td>\n",
              "      <td>0</td>\n",
              "      <td>0</td>\n",
              "      <td>1</td>\n",
              "      <td>0</td>\n",
              "      <td>1</td>\n",
              "      <td>1</td>\n",
              "      <td>1</td>\n",
              "      <td>1</td>\n",
              "      <td>0</td>\n",
              "      <td>0</td>\n",
              "      <td>0</td>\n",
              "      <td>1</td>\n",
              "      <td>1</td>\n",
              "      <td>0</td>\n",
              "    </tr>\n",
              "    <tr>\n",
              "      <th>1</th>\n",
              "      <td>0.649902</td>\n",
              "      <td>tcp</td>\n",
              "      <td>-</td>\n",
              "      <td>FIN</td>\n",
              "      <td>14</td>\n",
              "      <td>38</td>\n",
              "      <td>734</td>\n",
              "      <td>42014</td>\n",
              "      <td>78.473372</td>\n",
              "      <td>62</td>\n",
              "      <td>252</td>\n",
              "      <td>8395.112305</td>\n",
              "      <td>503571.312500</td>\n",
              "      <td>2</td>\n",
              "      <td>17</td>\n",
              "      <td>49.915000</td>\n",
              "      <td>15.432865</td>\n",
              "      <td>61.426934</td>\n",
              "      <td>1387.778330</td>\n",
              "      <td>255</td>\n",
              "      <td>1417884146</td>\n",
              "      <td>3077387971</td>\n",
              "      <td>255</td>\n",
              "      <td>0.000000</td>\n",
              "      <td>0.000000</td>\n",
              "      <td>0.000000</td>\n",
              "      <td>52</td>\n",
              "      <td>1106</td>\n",
              "      <td>0</td>\n",
              "      <td>0</td>\n",
              "      <td>43</td>\n",
              "      <td>1</td>\n",
              "      <td>1</td>\n",
              "      <td>1</td>\n",
              "      <td>1</td>\n",
              "      <td>2</td>\n",
              "      <td>0</td>\n",
              "      <td>0</td>\n",
              "      <td>0</td>\n",
              "      <td>1</td>\n",
              "      <td>6</td>\n",
              "      <td>0</td>\n",
              "    </tr>\n",
              "    <tr>\n",
              "      <th>2</th>\n",
              "      <td>1.623129</td>\n",
              "      <td>tcp</td>\n",
              "      <td>-</td>\n",
              "      <td>FIN</td>\n",
              "      <td>8</td>\n",
              "      <td>16</td>\n",
              "      <td>364</td>\n",
              "      <td>13186</td>\n",
              "      <td>14.170161</td>\n",
              "      <td>62</td>\n",
              "      <td>252</td>\n",
              "      <td>1572.271851</td>\n",
              "      <td>60929.230470</td>\n",
              "      <td>1</td>\n",
              "      <td>6</td>\n",
              "      <td>231.875571</td>\n",
              "      <td>102.737203</td>\n",
              "      <td>17179.586860</td>\n",
              "      <td>11420.926230</td>\n",
              "      <td>255</td>\n",
              "      <td>2116150707</td>\n",
              "      <td>2963114973</td>\n",
              "      <td>255</td>\n",
              "      <td>0.111897</td>\n",
              "      <td>0.061458</td>\n",
              "      <td>0.050439</td>\n",
              "      <td>46</td>\n",
              "      <td>824</td>\n",
              "      <td>0</td>\n",
              "      <td>0</td>\n",
              "      <td>7</td>\n",
              "      <td>1</td>\n",
              "      <td>2</td>\n",
              "      <td>1</td>\n",
              "      <td>1</td>\n",
              "      <td>3</td>\n",
              "      <td>0</td>\n",
              "      <td>0</td>\n",
              "      <td>0</td>\n",
              "      <td>2</td>\n",
              "      <td>6</td>\n",
              "      <td>0</td>\n",
              "    </tr>\n",
              "    <tr>\n",
              "      <th>3</th>\n",
              "      <td>1.681642</td>\n",
              "      <td>tcp</td>\n",
              "      <td>ftp</td>\n",
              "      <td>FIN</td>\n",
              "      <td>12</td>\n",
              "      <td>12</td>\n",
              "      <td>628</td>\n",
              "      <td>770</td>\n",
              "      <td>13.677108</td>\n",
              "      <td>62</td>\n",
              "      <td>252</td>\n",
              "      <td>2740.178955</td>\n",
              "      <td>3358.622070</td>\n",
              "      <td>1</td>\n",
              "      <td>3</td>\n",
              "      <td>152.876547</td>\n",
              "      <td>90.235726</td>\n",
              "      <td>259.080172</td>\n",
              "      <td>4991.784669</td>\n",
              "      <td>255</td>\n",
              "      <td>1107119177</td>\n",
              "      <td>1047442890</td>\n",
              "      <td>255</td>\n",
              "      <td>0.000000</td>\n",
              "      <td>0.000000</td>\n",
              "      <td>0.000000</td>\n",
              "      <td>52</td>\n",
              "      <td>64</td>\n",
              "      <td>0</td>\n",
              "      <td>0</td>\n",
              "      <td>1</td>\n",
              "      <td>1</td>\n",
              "      <td>2</td>\n",
              "      <td>1</td>\n",
              "      <td>1</td>\n",
              "      <td>3</td>\n",
              "      <td>1</td>\n",
              "      <td>1</td>\n",
              "      <td>0</td>\n",
              "      <td>2</td>\n",
              "      <td>1</td>\n",
              "      <td>0</td>\n",
              "    </tr>\n",
              "    <tr>\n",
              "      <th>4</th>\n",
              "      <td>0.449454</td>\n",
              "      <td>tcp</td>\n",
              "      <td>-</td>\n",
              "      <td>FIN</td>\n",
              "      <td>10</td>\n",
              "      <td>6</td>\n",
              "      <td>534</td>\n",
              "      <td>268</td>\n",
              "      <td>33.373826</td>\n",
              "      <td>254</td>\n",
              "      <td>252</td>\n",
              "      <td>8561.499023</td>\n",
              "      <td>3987.059814</td>\n",
              "      <td>2</td>\n",
              "      <td>1</td>\n",
              "      <td>47.750333</td>\n",
              "      <td>75.659602</td>\n",
              "      <td>2415.837634</td>\n",
              "      <td>115.807000</td>\n",
              "      <td>255</td>\n",
              "      <td>2436137549</td>\n",
              "      <td>1977154190</td>\n",
              "      <td>255</td>\n",
              "      <td>0.128381</td>\n",
              "      <td>0.071147</td>\n",
              "      <td>0.057234</td>\n",
              "      <td>53</td>\n",
              "      <td>45</td>\n",
              "      <td>0</td>\n",
              "      <td>0</td>\n",
              "      <td>43</td>\n",
              "      <td>1</td>\n",
              "      <td>2</td>\n",
              "      <td>2</td>\n",
              "      <td>1</td>\n",
              "      <td>40</td>\n",
              "      <td>0</td>\n",
              "      <td>0</td>\n",
              "      <td>0</td>\n",
              "      <td>2</td>\n",
              "      <td>39</td>\n",
              "      <td>0</td>\n",
              "    </tr>\n",
              "  </tbody>\n",
              "</table>\n",
              "</div>"
            ],
            "text/plain": [
              "        dur proto service  ... ct_src_ltm  ct_srv_dst  is_sm_ips_ports\n",
              "0  0.121478   tcp       -  ...          1           1                0\n",
              "1  0.649902   tcp       -  ...          1           6                0\n",
              "2  1.623129   tcp       -  ...          2           6                0\n",
              "3  1.681642   tcp     ftp  ...          2           1                0\n",
              "4  0.449454   tcp       -  ...          2          39                0\n",
              "\n",
              "[5 rows x 42 columns]"
            ]
          },
          "metadata": {},
          "execution_count": 6
        }
      ]
    },
    {
      "cell_type": "code",
      "metadata": {
        "colab": {
          "base_uri": "https://localhost:8080/"
        },
        "id": "0onwcJ81Ba0I",
        "outputId": "3ac73c65-abb5-4ce3-d538-f7e62915287c"
      },
      "source": [
        "from sklearn.cluster import MiniBatchKMeans, KMeans\n",
        "import matplotlib.pyplot as plt\n",
        "\n",
        "np.unique(df_train['state'])"
      ],
      "execution_count": 7,
      "outputs": [
        {
          "output_type": "execute_result",
          "data": {
            "text/plain": [
              "array(['CON', 'ECO', 'FIN', 'INT', 'PAR', 'REQ', 'RST', 'URN', 'no'],\n",
              "      dtype=object)"
            ]
          },
          "metadata": {},
          "execution_count": 7
        }
      ]
    },
    {
      "cell_type": "markdown",
      "metadata": {
        "id": "An-52W09nbvv"
      },
      "source": [
        "Just go check that train data correct "
      ]
    },
    {
      "cell_type": "code",
      "metadata": {
        "colab": {
          "base_uri": "https://localhost:8080/"
        },
        "id": "_hUGQgtpEzjp",
        "outputId": "af67aace-3805-4ddb-a82e-39a2a17e9cd6"
      },
      "source": [
        "df_train.isnull().values.any()\n"
      ],
      "execution_count": 8,
      "outputs": [
        {
          "output_type": "execute_result",
          "data": {
            "text/plain": [
              "False"
            ]
          },
          "metadata": {},
          "execution_count": 8
        }
      ]
    },
    {
      "cell_type": "code",
      "metadata": {
        "colab": {
          "base_uri": "https://localhost:8080/"
        },
        "id": "IHmrVUZQFdrv",
        "outputId": "d0cb8d57-3e12-4c2a-bc32-16d7accdfa50"
      },
      "source": [
        "from sklearn.impute import SimpleImputer\n",
        "from sklearn.preprocessing import OneHotEncoder\n",
        "from sklearn.preprocessing import MinMaxScaler\n",
        "from sklearn.model_selection import train_test_split\n",
        "\n",
        "\n",
        "#imputer = SimpleImputer(strategy='most_frequent')\n",
        "#imputer.fit(x_train)\n",
        "#x_train = pd.DataFrame(imputer.transform(df_train), columns=df_train.columns)\n",
        "\n",
        "def ohe_new_features(df, features_name, encoder):\n",
        "    new_feats = encoder.transform(df[features_name])\n",
        "    # create dataframe from encoded features with named columns\n",
        "    new_cols = pd.DataFrame(new_feats, dtype=int, columns=encoder.get_feature_names(features_name))\n",
        "    new_df = pd.concat([df, new_cols], axis=1)    \n",
        "    new_df.drop(features_name, axis=1, inplace=True)\n",
        "    return new_df\n",
        "\n",
        "encoder = OneHotEncoder(sparse=False, drop='first')\n",
        "f_names = ['proto', 'service' , 'state']\n",
        "encoder.fit(df_train[f_names])\n",
        "x_train = ohe_new_features(df_train, f_names, encoder)\n",
        "#x_test = ohe_new_features(x_test, f_names, encoder)\n",
        "\n",
        "# feature scaling\n",
        "scaler = MinMaxScaler()\n",
        "scaler.fit(x_train)\n",
        "x_train = pd.DataFrame(scaler.transform(x_train), columns=x_train.columns)\n",
        "\n",
        "\n",
        "#x_test = pd.DataFrame(imputer.transform(x_test), columns=x_test.columns)\n",
        "\n"
      ],
      "execution_count": 9,
      "outputs": [
        {
          "output_type": "stream",
          "name": "stderr",
          "text": [
            "/usr/local/lib/python3.7/dist-packages/sklearn/utils/deprecation.py:87: FutureWarning: Function get_feature_names is deprecated; get_feature_names is deprecated in 1.0 and will be removed in 1.2. Please use get_feature_names_out instead.\n",
            "  warnings.warn(msg, category=FutureWarning)\n"
          ]
        }
      ]
    },
    {
      "cell_type": "code",
      "metadata": {
        "colab": {
          "base_uri": "https://localhost:8080/"
        },
        "id": "wLaHWnMoHweM",
        "outputId": "3eb9892c-ec0d-4834-a637-fd5b16486baf"
      },
      "source": [
        "from sklearn.preprocessing import StandardScaler\n",
        "from sklearn.decomposition import PCA\n",
        "#norm_data = StandardScaler().fit_transform(x_train)\n",
        "pca = PCA()\n",
        "pca.fit(x_train)"
      ],
      "execution_count": 10,
      "outputs": [
        {
          "output_type": "execute_result",
          "data": {
            "text/plain": [
              "PCA()"
            ]
          },
          "metadata": {},
          "execution_count": 10
        }
      ]
    },
    {
      "cell_type": "code",
      "metadata": {
        "colab": {
          "base_uri": "https://localhost:8080/"
        },
        "id": "XUJJQWTb6ek5",
        "outputId": "812280e2-8a7d-457a-c747-967817fd754a"
      },
      "source": [
        "x_train.shape"
      ],
      "execution_count": 11,
      "outputs": [
        {
          "output_type": "execute_result",
          "data": {
            "text/plain": [
              "(175341, 191)"
            ]
          },
          "metadata": {},
          "execution_count": 11
        }
      ]
    },
    {
      "cell_type": "markdown",
      "metadata": {
        "id": "BsKblT5u5hsd"
      },
      "source": [
        "After OneHotEncoder there are a lot of new features - I suppose that many of them are almost useless - let's check this hypothesis and see how many important features:\n",
        "*Lets* check  cumulative variance plot \n",
        "it is considered optimal when this value is matured> 80% as can be seen from the graph 5 components of all possible features are enough for this"
      ]
    },
    {
      "cell_type": "code",
      "metadata": {
        "colab": {
          "base_uri": "https://localhost:8080/",
          "height": 530
        },
        "id": "r13wWpXWTOr3",
        "outputId": "e5616ddc-d6be-4f24-98c7-5d06fe492df2"
      },
      "source": [
        "pca.explained_variance_ratio_\n",
        "plt.figure(figsize=(10,8))\n",
        "plt.plot(range(0,(x_train.shape[1])), pca.explained_variance_ratio_.cumsum(), marker ='o', linestyle = '--')\n",
        "plt.xlabel(\"Num of features\")\n",
        "plt.ylabel(\"Explained Variance\")\n",
        "plt.title(\"Graph for pick num of importnt features \")"
      ],
      "execution_count": 12,
      "outputs": [
        {
          "output_type": "execute_result",
          "data": {
            "text/plain": [
              "Text(0.5, 1.0, 'Graph for pick num of importnt features ')"
            ]
          },
          "metadata": {},
          "execution_count": 12
        },
        {
          "output_type": "display_data",
          "data": {
            "image/png": "[encoded data removed]",
            "text/plain": [
              "<Figure size 720x576 with 1 Axes>"
            ]
          },
          "metadata": {
            "needs_background": "light"
          }
        }
      ]
    },
    {
      "cell_type": "code",
      "metadata": {
        "id": "mUfDb7-1sVuO"
      },
      "source": [
        "pca = PCA(n_components=5)\n",
        "pca.fit(x_train)\n",
        "scores_pca =pca.transform(x_train)"
      ],
      "execution_count": 13,
      "outputs": []
    },
    {
      "cell_type": "code",
      "metadata": {
        "id": "mAnLAMhHs8yy"
      },
      "source": [
        "wcss = []#within-cluster sum of squares\n",
        "for i in range(1,21):\n",
        "  k_means_pca = KMeans(n_clusters=i, init='k-means++', random_state=42)\n",
        "  k_means_pca.fit(scores_pca)\n",
        "  wcss.append(k_means_pca.inertia_)"
      ],
      "execution_count": 14,
      "outputs": []
    },
    {
      "cell_type": "code",
      "metadata": {
        "colab": {
          "base_uri": "https://localhost:8080/",
          "height": 530
        },
        "id": "LlfDuJabtkt5",
        "outputId": "4eb784ad-fddf-4413-8a40-4b365d7abd70"
      },
      "source": [
        "plt.figure(figsize =(10,8))\n",
        "plt.plot(range(1,21),wcss,marker='o', linestyle='--')\n",
        "plt.xlabel(\"Num of clusters\")\n",
        "plt.ylabel(\"WCSS\")\n",
        "plt.title(\"K-Means with PCA clustering\")"
      ],
      "execution_count": 15,
      "outputs": [
        {
          "output_type": "execute_result",
          "data": {
            "text/plain": [
              "Text(0.5, 1.0, 'K-Means with PCA clustering')"
            ]
          },
          "metadata": {},
          "execution_count": 15
        },
        {
          "output_type": "display_data",
          "data": {
            "image/png": "[encoded data removed]",
            "text/plain": [
              "<Figure size 720x576 with 1 Axes>"
            ]
          },
          "metadata": {
            "needs_background": "light"
          }
        }
      ]
    },
    {
      "cell_type": "markdown",
      "metadata": {
        "id": "WFR-l5LW7Z5T"
      },
      "source": [
        "Now let's use the elbow rule to determine the number of clusters on the graph\n"
      ]
    },
    {
      "cell_type": "code",
      "metadata": {
        "id": "lv2aWv78_1ZP"
      },
      "source": [
        "### USING ONE HOT ENCODER bad pratice in this case so use simple label encoder and Max Ab scaler"
      ],
      "execution_count": 16,
      "outputs": []
    },
    {
      "cell_type": "code",
      "metadata": {
        "id": "3qACVBP7NZ7F"
      },
      "source": [
        "df_train = pd.read_csv(names[1])"
      ],
      "execution_count": 17,
      "outputs": []
    },
    {
      "cell_type": "code",
      "metadata": {
        "id": "2tJI5ITa0scS"
      },
      "source": [
        "from sklearn import preprocessing\n",
        "le = preprocessing.LabelEncoder()\n",
        "state=np.unique(list(df_train['state']))\n",
        "cat_features = ['state', 'proto','service']\n",
        "#le.fit(df_train['state'])\n",
        "le.fit(state)\n",
        "\n",
        "df_train['state'] = le.transform(df_train['state'])\n",
        "\n",
        "for i in cat_features:\n",
        "  le.fit(df_train[i])\n",
        "  df_train[i] = le.transform(df_train[i])\n"
      ],
      "execution_count": 18,
      "outputs": []
    },
    {
      "cell_type": "code",
      "metadata": {
        "id": "H1WdSchL0r4I"
      },
      "source": [
        "\n",
        "from sklearn.preprocessing import MaxAbsScaler\n",
        "transformer = MaxAbsScaler().fit(df_train)\n",
        "X_train = transformer.transform(df_train)"
      ],
      "execution_count": 19,
      "outputs": []
    },
    {
      "cell_type": "code",
      "metadata": {
        "colab": {
          "base_uri": "https://localhost:8080/",
          "height": 530
        },
        "id": "QQdptoMfAI5-",
        "outputId": "41c0e98e-76ca-4336-cc62-dcf69b6dc446"
      },
      "source": [
        "wcss = []\n",
        "for i in range(1,21):\n",
        "  k_means_pca = KMeans(n_clusters=i, init='k-means++', random_state=42)\n",
        "  k_means_pca.fit(X_train)\n",
        "  wcss.append(k_means_pca.inertia_)\n",
        "plt.figure(figsize =(10,8))\n",
        "plt.plot(range(1,21),wcss,marker='o', linestyle='--')\n",
        "plt.xlabel(\"Num of clusters\")\n",
        "plt.ylabel(\"WCSS\")\n",
        "plt.title(\"K-Means with PCA clustering\")"
      ],
      "execution_count": 20,
      "outputs": [
        {
          "output_type": "execute_result",
          "data": {
            "text/plain": [
              "Text(0.5, 1.0, 'K-Means with PCA clustering')"
            ]
          },
          "metadata": {},
          "execution_count": 20
        },
        {
          "output_type": "display_data",
          "data": {
            "image/png": "[encoded data removed]",
            "text/plain": [
              "<Figure size 720x576 with 1 Axes>"
            ]
          },
          "metadata": {
            "needs_background": "light"
          }
        }
      ]
    },
    {
      "cell_type": "code",
      "metadata": {
        "id": "zyzfnFLpuRsR"
      },
      "source": [
        "#use elbow method and pick 6 num of cluster\n",
        "kmeans = KMeans(n_clusters=6,random_state=42)\n",
        "kmeans.fit(X_train)\n",
        "pca = PCA(n_components=2)\n",
        "X_pca = pca.fit_transform(X_train)\n",
        "cluster_centers = pca.transform(kmeans.cluster_centers_)\n"
      ],
      "execution_count": 21,
      "outputs": []
    },
    {
      "cell_type": "code",
      "metadata": {
        "id": "xjnDh1Rx3mfW"
      },
      "source": [
        "X_pca = pd.DataFrame(X_pca, columns=['1','2'])\n",
        "X_pca['cluster']=kmeans.labels_\n",
        "cluster_1=X_pca[X_pca['cluster']==0]\n",
        "cluster_2=X_pca[X_pca['cluster']==1]\n",
        "cluster_3=X_pca[X_pca['cluster']==2]\n",
        "cluster_4=X_pca[X_pca['cluster']==3]\n",
        "cluster_5=X_pca[X_pca['cluster']==4]\n",
        "cluster_6=X_pca[X_pca['cluster']==5]\n",
        "\n"
      ],
      "execution_count": 22,
      "outputs": []
    },
    {
      "cell_type": "code",
      "metadata": {
        "colab": {
          "base_uri": "https://localhost:8080/",
          "height": 281
        },
        "id": "0b0im5Sg3z3s",
        "outputId": "1ad92a2f-4519-4216-c82b-761c86886a29"
      },
      "source": [
        "import matplotlib.pyplot as plt\n",
        "clusters = [cluster_1,cluster_2,cluster_3,cluster_4,cluster_5,cluster_6]\n",
        "plt.scatter(cluster_centers[:,0], cluster_centers[:,1], marker='*', c='y', s=350,label='Centroids')\n",
        "colors = ['red','blue','green','yellow','pink',\"orange\"]\n",
        "plt.title(\"data on two main features (TRAIN )\")\n",
        "for i in range(len(clusters)):\n",
        "  plt.plot(clusters[i]['1'], clusters[i]['2'], '.', color=colors[i],alpha=0.5)\n",
        "\n",
        "  #plt.axis([-6, 3, -3, 6])\n",
        "plt.grid('True')\n",
        "\n",
        "\n",
        "plt.show()"
      ],
      "execution_count": 23,
      "outputs": [
        {
          "output_type": "display_data",
          "data": {
            "image/png": "[encoded data removed]",
            "text/plain": [
              "<Figure size 432x288 with 1 Axes>"
            ]
          },
          "metadata": {
            "needs_background": "light"
          }
        }
      ]
    },
    {
      "cell_type": "markdown",
      "metadata": {
        "id": "lYEMF3dS98yJ"
      },
      "source": [
        "Lets check their centers"
      ]
    },
    {
      "cell_type": "code",
      "metadata": {
        "id": "GYER5pBHK4XZ",
        "colab": {
          "base_uri": "https://localhost:8080/",
          "height": 298
        },
        "outputId": "ca5df791-19b5-4aac-985b-55b3fc2558d2"
      },
      "source": [
        "plt.scatter(cluster_centers[:,0], cluster_centers[:,1], marker='*', c='y', s=350,label='Centroids')\n",
        "plt.title(\"Centers\")\n"
      ],
      "execution_count": 24,
      "outputs": [
        {
          "output_type": "execute_result",
          "data": {
            "text/plain": [
              "Text(0.5, 1.0, 'Centers')"
            ]
          },
          "metadata": {},
          "execution_count": 24
        },
        {
          "output_type": "display_data",
          "data": {
            "image/png": "[encoded data removed]",
            "text/plain": [
              "<Figure size 432x288 with 1 Axes>"
            ]
          },
          "metadata": {
            "needs_background": "light"
          }
        }
      ]
    },
    {
      "cell_type": "markdown",
      "metadata": {
        "id": "nNvBCE_c_9l0"
      },
      "source": [
        "looks good  - lets repeat it with test"
      ]
    },
    {
      "cell_type": "code",
      "metadata": {
        "id": "LJ2fksp7AMHH"
      },
      "source": [
        "df_test = pd.read_csv(names[0])\n",
        "le = preprocessing.LabelEncoder()\n",
        "state=np.unique(list(df_test['state']))\n",
        "cat_features = ['state', 'proto','service']\n",
        "le.fit(state)\n",
        "df_test['state'] = le.transform(df_test['state'])\n",
        "\n",
        "for i in cat_features:\n",
        "  le.fit(df_test[i])\n",
        "  df_test[i] = le.transform(df_test[i])\n"
      ],
      "execution_count": 25,
      "outputs": []
    },
    {
      "cell_type": "code",
      "metadata": {
        "id": "21wAx-QYBhOd"
      },
      "source": [
        "transformer = MaxAbsScaler().fit(df_test)\n",
        "X_test = transformer.transform(df_test)"
      ],
      "execution_count": 26,
      "outputs": []
    },
    {
      "cell_type": "code",
      "metadata": {
        "colab": {
          "base_uri": "https://localhost:8080/",
          "height": 281
        },
        "id": "5HW3lrPEF0z6",
        "outputId": "3490629d-cb83-4ad1-bd7e-47445389735c"
      },
      "source": [
        "#use elbow method and pick 6 num of cluster\n",
        "#kmeans = KMeans(n_clusters=6,random_state=42)\n",
        "#kmeans.fit(X_train)\n",
        "kmeans.fit(X_test)\n",
        "pca = PCA(n_components=2)\n",
        "X_pca = pca.fit_transform(X_test)\n",
        "cluster_centers = pca.transform(kmeans.cluster_centers_)\n",
        "X_pca = pd.DataFrame(X_pca, columns=['1','2'])\n",
        "X_pca['cluster']=kmeans.labels_\n",
        "cluster_1=X_pca[X_pca['cluster']==0]\n",
        "cluster_2=X_pca[X_pca['cluster']==1]\n",
        "cluster_3=X_pca[X_pca['cluster']==2]\n",
        "cluster_4=X_pca[X_pca['cluster']==3]\n",
        "cluster_5=X_pca[X_pca['cluster']==4]\n",
        "cluster_6=X_pca[X_pca['cluster']==5]\n",
        "\n",
        "clusters = [cluster_1,cluster_2,cluster_3,cluster_4,cluster_5,cluster_6]\n",
        "plt.scatter(cluster_centers[:,0], cluster_centers[:,1], marker='*', c='y', s=350,label='Centroids')\n",
        "colors = ['red','blue','green','yellow','pink',\"orange\"]\n",
        "plt.title(\"data on two main features TEST\")\n",
        "for i in range(len(clusters)):\n",
        "  plt.plot(clusters[i]['1'], clusters[i]['2'], '.', color=colors[i],alpha=0.5)\n",
        "#plt.axis([-6, 3, -3, 6])\n",
        "plt.grid('True')\n",
        "plt.show()\n"
      ],
      "execution_count": 27,
      "outputs": [
        {
          "output_type": "display_data",
          "data": {
            "image/png": "[encoded data removed]",
            "text/plain": [
              "<Figure size 432x288 with 1 Axes>"
            ]
          },
          "metadata": {
            "needs_background": "light"
          }
        }
      ]
    },
    {
      "cell_type": "code",
      "metadata": {
        "colab": {
          "base_uri": "https://localhost:8080/"
        },
        "id": "ehGfZIWKdHKa",
        "outputId": "54c04b35-a763-4ada-b711-1ca22373f78b"
      },
      "source": [
        "cluster_1.shape"
      ],
      "execution_count": 28,
      "outputs": [
        {
          "output_type": "execute_result",
          "data": {
            "text/plain": [
              "(10285, 3)"
            ]
          },
          "metadata": {},
          "execution_count": 28
        }
      ]
    },
    {
      "cell_type": "code",
      "metadata": {
        "id": "EICDlKt7HMBI"
      },
      "source": [
        "from sklearn.cluster import Birch\n",
        "brc = Birch(n_clusters=6)\n",
        "#brc.fit(X_train)\n",
        "#brc.transform(X_train)\n",
        "birch_models=[brc,Birch(n_clusters=None)]\n",
        "X = X_train"
      ],
      "execution_count": 29,
      "outputs": []
    },
    {
      "cell_type": "code",
      "metadata": {
        "id": "6Iv3MFGMIdX5"
      },
      "source": [
        "from itertools import cycle\n",
        "import matplotlib.colors as colors\n",
        "%matplotlib inline \n",
        "\n"
      ],
      "execution_count": 30,
      "outputs": []
    },
    {
      "cell_type": "code",
      "metadata": {
        "id": "CATnGw-hKZMa"
      },
      "source": [
        "# final_step = [\"without global clustering\", \"with global clustering\"]\n",
        "# birch_model = birch_models[1]\n",
        "# birch_model.fit(X)\n",
        "# X_pca = pca.fit_transform(X_train)\n",
        "# X_pca = pd.DataFrame(X_pca, columns=['1','2'])\n",
        "\n",
        "# # Plot result\n",
        "# labels = birch_model.labels_\n",
        "# centroids = birch_model.subcluster_centers_\n",
        "# n_clusters = np.unique(labels).size\n",
        "# print(\"n_clusters : %d\" % n_clusters)\n",
        "\n",
        "# #use elbow method and pick 6 num of cluster\n",
        "# #kmeans = KMeans(n_clusters=6,random_state=42)\n",
        "# #kmeans.fit(X_train)\n",
        "# #kmeans.fit(X_test)\n",
        "# #pca = PCA(n_components=2)\n",
        "# #X_pca = pca.fit_transform(X_test)\n",
        "# cluster_centers = pca.transform(centroids)\n",
        "# #X_pca = pd.DataFrame(X_pca, columns=['1','2'])\n",
        "# X_pca['cluster']=labels\n",
        "# cluster_1=X_pca[X_pca['cluster']==0]\n",
        "# cluster_2=X_pca[X_pca['cluster']==1]\n",
        "# cluster_3=X_pca[X_pca['cluster']==2]\n",
        "# cluster_4=X_pca[X_pca['cluster']==3]\n",
        "# cluster_5=X_pca[X_pca['cluster']==4]\n",
        "# cluster_6=X_pca[X_pca['cluster']==5]\n",
        "\n",
        "# clusters = [cluster_1,cluster_2,cluster_3,cluster_4,cluster_5,cluster_6]\n",
        "# #plt.scatter(cluster_centers[:,0], cluster_centers[:,1], marker='*', c='y', s=350,label='Centroids')\n",
        "# colors = ['red','blue','green','yellow','pink',\"orange\"]\n",
        "# plt.title(\"data on two main features TEST\")\n",
        "# for i in range(len(clusters)):\n",
        "#   plt.plot(clusters[i]['1'], clusters[i]['2'], '.', color=colors[i],alpha=0.5)\n",
        "# #plt.axis([-6, 3, -3, 6])\n",
        "# plt.grid('True')\n",
        "# plt.show()\n"
      ],
      "execution_count": 31,
      "outputs": []
    },
    {
      "cell_type": "code",
      "metadata": {
        "id": "WKbfQZRg--O_",
        "colab": {
          "base_uri": "https://localhost:8080/"
        },
        "outputId": "ec9fecd8-ac9b-4893-da0a-8e3150e72b02"
      },
      "source": [
        "birch_models[1].fit_transform(X)"
      ],
      "execution_count": 32,
      "outputs": [
        {
          "output_type": "execute_result",
          "data": {
            "text/plain": [
              "array([[1.86426515, 1.91524895, 2.3513714 , ..., 1.60791363, 1.3674346 ,\n",
              "        1.9274119 ],\n",
              "       [2.28054997, 2.3076873 , 2.43547376, ..., 1.30876904, 1.25415061,\n",
              "        1.5618734 ],\n",
              "       [2.16425327, 2.20418317, 2.30933111, ..., 1.19834212, 0.94737601,\n",
              "        1.40463325],\n",
              "       ...,\n",
              "       [0.30411905, 0.50543178, 1.62481113, ..., 2.42606563, 2.31498623,\n",
              "        2.73587132],\n",
              "       [1.15648685, 1.19500541, 2.03087418, ..., 2.71370344, 2.42241059,\n",
              "        2.99545472],\n",
              "       [1.16681865, 1.20597792, 2.03736977, ..., 2.71857525, 2.42786698,\n",
              "        2.999869  ]])"
            ]
          },
          "metadata": {},
          "execution_count": 32
        }
      ]
    },
    {
      "cell_type": "markdown",
      "metadata": {
        "id": "zhWJO9KdJC8h"
      },
      "source": [
        "During the training, I tried different parameters but constantly broke (possibly due to a large computational load), so here you can see only what worked :)\n"
      ]
    },
    {
      "cell_type": "code",
      "metadata": {
        "colab": {
          "base_uri": "https://localhost:8080/"
        },
        "id": "_lgXq8D8BbpF",
        "outputId": "783d5515-54b8-4c0c-9d35-1982c35b4ea9"
      },
      "source": [
        "\n",
        "from sklearn.decomposition import PCA\n",
        "pca = PCA(n_components=2)\n",
        "pca.fit(X_train)\n",
        "X_pca = pca.transform(X_train)\n",
        "cluster_centers = pca.transform(kmeans.cluster_centers_)\n",
        "X_test_pca = pca.transform(X_test)\n",
        "\n",
        "epses = [ 0.03,0.05,0.07]\n",
        "\n",
        "from sklearn.cluster import DBSCAN\n",
        "from sklearn import metrics\n",
        "for eps in epses:\n",
        "  db = DBSCAN(eps=eps, min_samples=300,algorithm='ball_tree', metric='haversine').fit(X_test_pca)\n",
        "  labels = db.labels_\n",
        "  core_samples_mask = np.zeros_like(db.labels_, dtype=bool)\n",
        "  core_samples_mask[db.core_sample_indices_] = True\n",
        "  print(\"Silhouette Coefficient: %0.3f\" % metrics.silhouette_score(X_test_pca, labels), \"for eps \",eps)"
      ],
      "execution_count": 33,
      "outputs": [
        {
          "output_type": "stream",
          "name": "stdout",
          "text": [
            "Silhouette Coefficient: 0.688 for eps  0.03\n",
            "Silhouette Coefficient: 0.723 for eps  0.05\n",
            "Silhouette Coefficient: 0.724 for eps  0.07\n"
          ]
        }
      ]
    },
    {
      "cell_type": "markdown",
      "metadata": {
        "id": "kLNPwDKOq9kc"
      },
      "source": [
        "The silhouette factor is calculated using the average intra-cluster distance (a) and the average distance to the closest cluster (b) for each sample. So, in the ideal case, this coefficient is equal to one, while 0 means intersection and mixing of clusters (which is bad)\n",
        "so we choose the largest indicator and cluster test data on it. so lets pick BEST eps  (0.07) for performance and visualize test set "
      ]
    },
    {
      "cell_type": "code",
      "metadata": {
        "id": "vm6JOZoGBfNn",
        "colab": {
          "base_uri": "https://localhost:8080/",
          "height": 298
        },
        "outputId": "1a7847f7-c636-4574-a7e8-163dd0983df7"
      },
      "source": [
        "X_test_pca = pd.DataFrame(X_test_pca, columns=['1','2'])\n",
        "X_test_pca['cluster'] = db.labels_\n",
        "outliers=X_test_pca[X_test_pca['cluster']==-1]\n",
        "colors = db.labels_\n",
        "\n",
        "\n",
        "plt.title(\"Outliers and clusters\")\n",
        "plt.scatter(X_test_pca['1'], X_test_pca['2'], c = colors)\n",
        "plt.scatter(outliers['1'], outliers['2'], marker='1', c='r', s=350 )"
      ],
      "execution_count": 34,
      "outputs": [
        {
          "output_type": "execute_result",
          "data": {
            "text/plain": [
              "<matplotlib.collections.PathCollection at 0x7f8131e5a590>"
            ]
          },
          "metadata": {},
          "execution_count": 34
        },
        {
          "output_type": "display_data",
          "data": {
            "image/png": "[encoded data removed]",
            "text/plain": [
              "<Figure size 432x288 with 1 Axes>"
            ]
          },
          "metadata": {
            "needs_background": "light"
          }
        }
      ]
    },
    {
      "cell_type": "code",
      "metadata": {
        "id": "ZbJHgOYVvu6z"
      },
      "source": [
        ""
      ],
      "execution_count": 34,
      "outputs": []
    }
  ]
}